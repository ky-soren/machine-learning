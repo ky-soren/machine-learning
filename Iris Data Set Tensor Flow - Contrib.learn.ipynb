{
 "cells": [
  {
   "cell_type": "code",
   "execution_count": 1,
   "metadata": {
    "collapsed": true
   },
   "outputs": [],
   "source": [
    "from sklearn.datasets import load_iris"
   ]
  },
  {
   "cell_type": "code",
   "execution_count": 16,
   "metadata": {},
   "outputs": [],
   "source": [
    "iris = load_iris()"
   ]
  },
  {
   "cell_type": "code",
   "execution_count": 18,
   "metadata": {},
   "outputs": [
    {
     "data": {
      "text/plain": [
       "dict_keys(['data', 'target', 'target_names', 'DESCR', 'feature_names'])"
      ]
     },
     "execution_count": 18,
     "metadata": {},
     "output_type": "execute_result"
    }
   ],
   "source": [
    "iris.keys()"
   ]
  },
  {
   "cell_type": "code",
   "execution_count": 3,
   "metadata": {
    "collapsed": true
   },
   "outputs": [],
   "source": [
    "x = iris['data']\n",
    "y = iris['target']"
   ]
  },
  {
   "cell_type": "code",
   "execution_count": 4,
   "metadata": {
    "collapsed": true
   },
   "outputs": [],
   "source": [
    "from sklearn.model_selection import train_test_split"
   ]
  },
  {
   "cell_type": "code",
   "execution_count": 5,
   "metadata": {
    "collapsed": true
   },
   "outputs": [],
   "source": [
    "x_train,x_test,y_train,y_test = train_test_split(x,y,test_size=0.3)"
   ]
  },
  {
   "cell_type": "code",
   "execution_count": 24,
   "metadata": {},
   "outputs": [],
   "source": [
    "import tensorflow.contrib.learn as learn\n",
    "import tensorflow as tf"
   ]
  },
  {
   "cell_type": "code",
   "execution_count": 27,
   "metadata": {},
   "outputs": [
    {
     "name": "stdout",
     "output_type": "stream",
     "text": [
      "WARNING:tensorflow:float64 is not supported by many models, consider casting to float32.\n"
     ]
    }
   ],
   "source": [
    "feature_columns = tf.contrib.learn.infer_real_valued_columns_from_input(x_train)"
   ]
  },
  {
   "cell_type": "code",
   "execution_count": 76,
   "metadata": {
    "scrolled": true
   },
   "outputs": [
    {
     "name": "stdout",
     "output_type": "stream",
     "text": [
      "INFO:tensorflow:Using default config.\n",
      "WARNING:tensorflow:Using temporary folder as model directory: /var/folders/h2/kp4bb7qn0lq1x28p8xr_4m1m0000gn/T/tmp295t5lxp\n",
      "INFO:tensorflow:Using config: {'_task_type': None, '_task_id': 0, '_cluster_spec': <tensorflow.python.training.server_lib.ClusterSpec object at 0x117f17278>, '_master': '', '_num_ps_replicas': 0, '_num_worker_replicas': 0, '_environment': 'local', '_is_chief': True, '_evaluation_master': '', '_tf_config': gpu_options {\n",
      "  per_process_gpu_memory_fraction: 1.0\n",
      "}\n",
      ", '_tf_random_seed': None, '_save_summary_steps': 100, '_save_checkpoints_secs': 600, '_log_step_count_steps': 100, '_session_config': None, '_save_checkpoints_steps': None, '_keep_checkpoint_max': 5, '_keep_checkpoint_every_n_hours': 10000, '_model_dir': '/var/folders/h2/kp4bb7qn0lq1x28p8xr_4m1m0000gn/T/tmp295t5lxp'}\n"
     ]
    }
   ],
   "source": [
    "#number of nodes per layer [30,30,30]\n",
    "classifier = learn.DNNClassifier(hidden_units=[30,30,30],n_classes=3, feature_columns=feature_columns)"
   ]
  },
  {
   "cell_type": "code",
   "execution_count": 78,
   "metadata": {},
   "outputs": [
    {
     "name": "stdout",
     "output_type": "stream",
     "text": [
      "WARNING:tensorflow:From <ipython-input-78-f21198bf5c32>:1: calling BaseEstimator.fit (from tensorflow.contrib.learn.python.learn.estimators.estimator) with x is deprecated and will be removed after 2016-12-01.\n",
      "Instructions for updating:\n",
      "Estimator is decoupled from Scikit Learn interface by moving into\n",
      "separate class SKCompat. Arguments x, y and batch_size are only\n",
      "available in the SKCompat class, Estimator will only accept input_fn.\n",
      "Example conversion:\n",
      "  est = Estimator(...) -> est = SKCompat(Estimator(...))\n",
      "WARNING:tensorflow:From <ipython-input-78-f21198bf5c32>:1: calling BaseEstimator.fit (from tensorflow.contrib.learn.python.learn.estimators.estimator) with y is deprecated and will be removed after 2016-12-01.\n",
      "Instructions for updating:\n",
      "Estimator is decoupled from Scikit Learn interface by moving into\n",
      "separate class SKCompat. Arguments x, y and batch_size are only\n",
      "available in the SKCompat class, Estimator will only accept input_fn.\n",
      "Example conversion:\n",
      "  est = Estimator(...) -> est = SKCompat(Estimator(...))\n",
      "WARNING:tensorflow:From <ipython-input-78-f21198bf5c32>:1: calling BaseEstimator.fit (from tensorflow.contrib.learn.python.learn.estimators.estimator) with batch_size is deprecated and will be removed after 2016-12-01.\n",
      "Instructions for updating:\n",
      "Estimator is decoupled from Scikit Learn interface by moving into\n",
      "separate class SKCompat. Arguments x, y and batch_size are only\n",
      "available in the SKCompat class, Estimator will only accept input_fn.\n",
      "Example conversion:\n",
      "  est = Estimator(...) -> est = SKCompat(Estimator(...))\n",
      "WARNING:tensorflow:float64 is not supported by many models, consider casting to float32.\n",
      "WARNING:tensorflow:From /Users/ky/anaconda/lib/python3.6/site-packages/tensorflow/contrib/learn/python/learn/estimators/head.py:642: scalar_summary (from tensorflow.python.ops.logging_ops) is deprecated and will be removed after 2016-11-30.\n",
      "Instructions for updating:\n",
      "Please switch to tf.summary.scalar. Note that tf.summary.scalar uses the node name instead of the tag. This means that TensorFlow will automatically de-duplicate summary names based on the scope they are created in. Also, passing a tensor or list of tags to a scalar summary op is no longer supported.\n"
     ]
    },
    {
     "name": "stderr",
     "output_type": "stream",
     "text": [
      "/Users/ky/anaconda/lib/python3.6/site-packages/tensorflow/python/util/deprecation.py:260: FutureWarning: comparison to `None` will result in an elementwise object comparison in the future.\n",
      "  equality = a == b\n"
     ]
    },
    {
     "name": "stdout",
     "output_type": "stream",
     "text": [
      "INFO:tensorflow:Create CheckpointSaverHook.\n",
      "INFO:tensorflow:Restoring parameters from /var/folders/h2/kp4bb7qn0lq1x28p8xr_4m1m0000gn/T/tmp295t5lxp/model.ckpt-4000\n",
      "INFO:tensorflow:Saving checkpoints for 4001 into /var/folders/h2/kp4bb7qn0lq1x28p8xr_4m1m0000gn/T/tmp295t5lxp/model.ckpt.\n",
      "INFO:tensorflow:loss = 0.0119958, step = 4001\n",
      "INFO:tensorflow:global_step/sec: 1317.6\n",
      "INFO:tensorflow:loss = 0.00315369, step = 4101 (0.077 sec)\n",
      "INFO:tensorflow:global_step/sec: 1348.69\n",
      "INFO:tensorflow:loss = 0.00182354, step = 4201 (0.074 sec)\n",
      "INFO:tensorflow:global_step/sec: 1386.54\n",
      "INFO:tensorflow:loss = 0.00305321, step = 4301 (0.072 sec)\n",
      "INFO:tensorflow:global_step/sec: 1365.06\n",
      "INFO:tensorflow:loss = 0.00497584, step = 4401 (0.073 sec)\n",
      "INFO:tensorflow:global_step/sec: 1386.95\n",
      "INFO:tensorflow:loss = 0.0111088, step = 4501 (0.072 sec)\n",
      "INFO:tensorflow:global_step/sec: 1421.64\n",
      "INFO:tensorflow:loss = 0.00737393, step = 4601 (0.070 sec)\n",
      "INFO:tensorflow:global_step/sec: 1332.18\n",
      "INFO:tensorflow:loss = 0.012316, step = 4701 (0.075 sec)\n",
      "INFO:tensorflow:global_step/sec: 1316.12\n",
      "INFO:tensorflow:loss = 0.0892947, step = 4801 (0.076 sec)\n",
      "INFO:tensorflow:global_step/sec: 1235.04\n",
      "INFO:tensorflow:loss = 0.00732731, step = 4901 (0.081 sec)\n",
      "INFO:tensorflow:global_step/sec: 1344.43\n",
      "INFO:tensorflow:loss = 0.0558636, step = 5001 (0.074 sec)\n",
      "INFO:tensorflow:global_step/sec: 1340.57\n",
      "INFO:tensorflow:loss = 0.0725985, step = 5101 (0.075 sec)\n",
      "INFO:tensorflow:global_step/sec: 1414.73\n",
      "INFO:tensorflow:loss = 0.0029758, step = 5201 (0.071 sec)\n",
      "INFO:tensorflow:global_step/sec: 1329.85\n",
      "INFO:tensorflow:loss = 0.00676826, step = 5301 (0.076 sec)\n",
      "INFO:tensorflow:global_step/sec: 1332.93\n",
      "INFO:tensorflow:loss = 0.00438943, step = 5401 (0.074 sec)\n",
      "INFO:tensorflow:global_step/sec: 1300.68\n",
      "INFO:tensorflow:loss = 0.134448, step = 5501 (0.077 sec)\n",
      "INFO:tensorflow:global_step/sec: 1354.15\n",
      "INFO:tensorflow:loss = 0.0416212, step = 5601 (0.074 sec)\n",
      "INFO:tensorflow:global_step/sec: 1334.22\n",
      "INFO:tensorflow:loss = 0.0528126, step = 5701 (0.076 sec)\n",
      "INFO:tensorflow:global_step/sec: 1318.13\n",
      "INFO:tensorflow:loss = 0.00183127, step = 5801 (0.075 sec)\n",
      "INFO:tensorflow:global_step/sec: 1326.99\n",
      "INFO:tensorflow:loss = 0.02268, step = 5901 (0.075 sec)\n",
      "INFO:tensorflow:Saving checkpoints for 6000 into /var/folders/h2/kp4bb7qn0lq1x28p8xr_4m1m0000gn/T/tmp295t5lxp/model.ckpt.\n",
      "INFO:tensorflow:Loss for final step: 0.0101634.\n"
     ]
    },
    {
     "data": {
      "text/plain": [
       "DNNClassifier(params={'head': <tensorflow.contrib.learn.python.learn.estimators.head._MultiClassHead object at 0x11bc10278>, 'hidden_units': [30, 30, 30], 'feature_columns': (_RealValuedColumn(column_name='', dimension=4, default_value=None, dtype=tf.float64, normalizer=None),), 'optimizer': None, 'activation_fn': <function relu at 0x114b95ae8>, 'dropout': None, 'gradient_clip_norm': None, 'embedding_lr_multipliers': None, 'input_layer_min_slice_size': None})"
      ]
     },
     "execution_count": 78,
     "metadata": {},
     "output_type": "execute_result"
    }
   ],
   "source": [
    "classifier.fit(x_train,y_train,steps=2000,batch_size=32)"
   ]
  },
  {
   "cell_type": "code",
   "execution_count": 79,
   "metadata": {},
   "outputs": [
    {
     "name": "stdout",
     "output_type": "stream",
     "text": [
      "WARNING:tensorflow:From /Users/ky/anaconda/lib/python3.6/site-packages/tensorflow/python/util/deprecation.py:355: calling DNNClassifier.predict (from tensorflow.contrib.learn.python.learn.estimators.dnn) with outputs=None is deprecated and will be removed after 2017-03-01.\n",
      "Instructions for updating:\n",
      "Please switch to predict_classes, or set `outputs` argument.\n",
      "WARNING:tensorflow:From /Users/ky/anaconda/lib/python3.6/site-packages/tensorflow/contrib/learn/python/learn/estimators/dnn.py:452: calling BaseEstimator.predict (from tensorflow.contrib.learn.python.learn.estimators.estimator) with x is deprecated and will be removed after 2016-12-01.\n",
      "Instructions for updating:\n",
      "Estimator is decoupled from Scikit Learn interface by moving into\n",
      "separate class SKCompat. Arguments x, y and batch_size are only\n",
      "available in the SKCompat class, Estimator will only accept input_fn.\n",
      "Example conversion:\n",
      "  est = Estimator(...) -> est = SKCompat(Estimator(...))\n",
      "WARNING:tensorflow:float64 is not supported by many models, consider casting to float32.\n",
      "INFO:tensorflow:Restoring parameters from /var/folders/h2/kp4bb7qn0lq1x28p8xr_4m1m0000gn/T/tmp295t5lxp/model.ckpt-6000\n"
     ]
    },
    {
     "name": "stderr",
     "output_type": "stream",
     "text": [
      "/Users/ky/anaconda/lib/python3.6/site-packages/tensorflow/python/util/deprecation.py:260: FutureWarning: comparison to `None` will result in an elementwise object comparison in the future.\n",
      "  equality = a == b\n"
     ]
    }
   ],
   "source": [
    "iris_predictions = list(classifier.predict(x_test,as_iterable=True))"
   ]
  },
  {
   "cell_type": "code",
   "execution_count": 80,
   "metadata": {
    "collapsed": true
   },
   "outputs": [],
   "source": [
    "from sklearn.metrics import classification_report,confusion_matrix"
   ]
  },
  {
   "cell_type": "code",
   "execution_count": 81,
   "metadata": {},
   "outputs": [
    {
     "name": "stdout",
     "output_type": "stream",
     "text": [
      "             precision    recall  f1-score   support\n",
      "\n",
      "          0       1.00      1.00      1.00        16\n",
      "          1       0.82      0.93      0.87        15\n",
      "          2       0.92      0.79      0.85        14\n",
      "\n",
      "avg / total       0.92      0.91      0.91        45\n",
      "\n"
     ]
    }
   ],
   "source": [
    "print(classification_report(y_test,iris_predictions))"
   ]
  },
  {
   "cell_type": "code",
   "execution_count": null,
   "metadata": {
    "collapsed": true
   },
   "outputs": [],
   "source": []
  }
 ],
 "metadata": {
  "kernelspec": {
   "display_name": "Python 3",
   "language": "python",
   "name": "python3"
  },
  "language_info": {
   "codemirror_mode": {
    "name": "ipython",
    "version": 3
   },
   "file_extension": ".py",
   "mimetype": "text/x-python",
   "name": "python",
   "nbconvert_exporter": "python",
   "pygments_lexer": "ipython3",
   "version": "3.6.1"
  }
 },
 "nbformat": 4,
 "nbformat_minor": 2
}
